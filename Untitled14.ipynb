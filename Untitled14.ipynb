{
  "nbformat": 4,
  "nbformat_minor": 0,
  "metadata": {
    "colab": {
      "provenance": []
    },
    "kernelspec": {
      "name": "python3",
      "display_name": "Python 3"
    },
    "language_info": {
      "name": "python"
    }
  },
  "cells": [
    {
      "cell_type": "code",
      "source": [
        "def read_parallel_corpus(source_file, target_file):\n",
        "    with open(source_file, 'r', encoding='utf-8') as src, open(target_file, 'r', encoding='utf-8') as tgt:\n",
        "        source_lines = src.readlines()\n",
        "        target_lines = tgt.readlines()\n",
        "\n",
        "    assert len(source_lines) == len(target_lines), \"Source and target files should have the same number of lines.\"\n",
        "\n",
        "    data_pairs = [(source_lines[i].strip(), target_lines[i].strip()) for i in range(len(source_lines))]\n",
        "    return data_pairs\n",
        "\n",
        "# Example usage\n",
        "data_pairs = read_parallel_corpus('source.txt', 'target.txt')\n"
      ],
      "metadata": {
        "id": "E1Os9pHF8Hrq"
      },
      "execution_count": 11,
      "outputs": []
    },
    {
      "cell_type": "code",
      "source": [
        "from transformers import pipeline\n",
        "\n",
        "# Load a pre-trained translation model\n",
        "translator = pipeline('translation', model='Helsinki-NLP/opus-mt-en-fr')\n",
        "\n",
        "# Translate text from English to French\n",
        "translated = translator('This is a test sentence.', max_length=40)\n",
        "print(translated[0]['translation_text'])\n"
      ],
      "metadata": {
        "colab": {
          "base_uri": "https://localhost:8080/"
        },
        "id": "vPl9EUGJ_NVe",
        "outputId": "0db82e02-c657-4ca9-e931-fed177f25436"
      },
      "execution_count": 12,
      "outputs": [
        {
          "output_type": "stream",
          "name": "stderr",
          "text": [
            "/usr/local/lib/python3.10/dist-packages/transformers/models/marian/tokenization_marian.py:197: UserWarning: Recommended: pip install sacremoses.\n",
            "  warnings.warn(\"Recommended: pip install sacremoses.\")\n"
          ]
        },
        {
          "output_type": "stream",
          "name": "stdout",
          "text": [
            "C'est une phrase d'essai.\n"
          ]
        }
      ]
    }
  ]
}